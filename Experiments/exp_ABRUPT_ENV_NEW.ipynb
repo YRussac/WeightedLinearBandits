{
 "cells": [
  {
   "cell_type": "code",
   "execution_count": 1,
   "metadata": {},
   "outputs": [],
   "source": [
    "%matplotlib inline\n",
    "import os\n",
    "os.chdir(\"..\")\n",
    "import matplotlib.pyplot as plt\n",
    "import sys\n",
    "import numpy as np\n",
    "import os\n",
    "from math import log\n",
    "import random\n",
    "import time\n",
    "import pickle\n",
    "from numpy.linalg import pinv\n",
    "from arm_class import ArmGaussian\n",
    "from LinUCB_class import PolicyLinUCB\n",
    "from dLinUCB_class import DynamicLinUCB\n",
    "from D_LinUCB_class import DLinUCB\n",
    "from SW_LinUCB_class import SWLinUCB\n",
    "from environment_class import Environment\n",
    "from simulator_class import Simulator\n",
    "from utils import plot_regret, scatter_abrupt, scatter_smooth, action_check, get_B_T_smooth, detection_sorted"
   ]
  },
  {
   "cell_type": "code",
   "execution_count": 2,
   "metadata": {},
   "outputs": [],
   "source": [
    "# General parameters for all the experiments\n",
    "delta = 0.01 # Probability of being outside the confidence interval\n",
    "s = 1  # Bound on the theta_star parameter\n",
    "lambda_ = 0.1 # Regularisation parameter\n",
    "q = 5 # Diplaying the quantile (in %)"
   ]
  },
  {
   "cell_type": "code",
   "execution_count": 3,
   "metadata": {},
   "outputs": [],
   "source": [
    "def experiment_policies(n_mc, option):\n",
    "    mab = Environment(d, theta, sigma_noise, verbose)\n",
    "    simulator = Simulator(mab, theta, policies, k, d, steps, bp, verbose)\n",
    "    if option == \"par\":\n",
    "        avgRegret, qRegret, QRegret = simulator.run_multiprocessing(n_process, steps, n_mc, q, t_saved)\n",
    "        return avgRegret, qRegret, QRegret\n",
    "    else:\n",
    "        avgRegret, qRegret, QRegret, timedic, theta_hat, action_check = simulator.run(steps, \n",
    "                                                               n_mc, q, n_scat, t_saved)\n",
    "        return avgRegret, qRegret, QRegret, timedic, theta_hat, action_check\n",
    "\n",
    "def data_from_experiment(n_mc, option):\n",
    "    if option == \"par\":\n",
    "        avgRegret, qRegret, QRegret = experiment_policies(n_mc, option)\n",
    "        data = [[policy, avgRegret[policy], qRegret[policy],\n",
    "                QRegret[policy]] for policy in avgRegret]\n",
    "        return data\n",
    "    else:\n",
    "        avgRegret, qRegret, QRegret, timedic, theta_hat, action_check = experiment_policies(n_mc, '')\n",
    "        data = [[policy, avgRegret[policy], qRegret[policy],\n",
    "                QRegret[policy]] for policy in avgRegret]\n",
    "        return data, theta_hat, action_check, timedic"
   ]
  },
  {
   "cell_type": "code",
   "execution_count": 4,
   "metadata": {},
   "outputs": [
    {
     "name": "stdout",
     "output_type": "stream",
     "text": [
      "out_ABRUPT_NEW already exists\n",
      "out_ABRUPT_NEW already exists\n",
      "detection_out already exists\n"
     ]
    }
   ],
   "source": [
    "# The saved files should be located in the saved/ folder\n",
    "# The output images would be located in the out/ folder\n",
    "# If the folders are not created they must be created to run the code without bugs\n",
    "\n",
    "path = os.getcwd()\n",
    "out_dir = 'out_ABRUPT_NEW'\n",
    "saved_data_path = 'out_ABRUPT_NEW'\n",
    "detection_folder = 'detection_out'\n",
    "\n",
    "if not os.path.exists(path + '/' + out_dir):\n",
    "    os.mkdir(path + '/' + out_dir)\n",
    "    print('Creating the folder %s' %out_dir)\n",
    "else:\n",
    "    print(\"%s already exists\" %out_dir)\n",
    "    \n",
    "if not os.path.exists(path + '/' + saved_data_path):\n",
    "    os.mkdir(path + '/' + saved_data_path)\n",
    "    print('Creating the folder %s' %saved_data_path)\n",
    "else:\n",
    "    print(\"%s already exists\" %saved_data_path)\n",
    "    \n",
    "if not os.path.exists(path + '/' + detection_folder):\n",
    "    os.mkdir(path + '/' + detection_folder)\n",
    "    print('Creating the folder %s' %detection_folder)\n",
    "else:\n",
    "    print(\"%s already exists\" %detection_folder)"
   ]
  },
  {
   "cell_type": "code",
   "execution_count": 5,
   "metadata": {},
   "outputs": [],
   "source": [
    "def save_file(filename, var):\n",
    "    with open(saved_data_path + '/' + str(filename) + '.pkl', 'wb') as f:\n",
    "        pickle.dump(var, f)\n",
    "\n",
    "def load_file(filename):\n",
    "    with open(saved_data_path + '/' + str(filename) + '.pkl', 'rb') as f:\n",
    "        res = pickle.load(f)\n",
    "        return res\n",
    "\n",
    "def save_file_from_folder(folder, filename, var):\n",
    "    with open(str(folder) + '/' + str(filename) + '.pkl', 'wb') as f:\n",
    "        pickle.dump(var, f)\n",
    "        \n",
    "def load_file_from_folder(folder, filename):\n",
    "    with open(str(folder) + '/' + str(filename) + '.pkl', 'rb') as f:\n",
    "        res = pickle.load(f)\n",
    "        return res"
   ]
  },
  {
   "cell_type": "code",
   "execution_count": 6,
   "metadata": {},
   "outputs": [
    {
     "name": "stdout",
     "output_type": "stream",
     "text": [
      "B_T value: 5.414213562373095\n",
      "Sigma value for the experimenxt: 1\n",
      "gamma: 0.9941173985691094\n",
      "tau: 169.99281895061446\n"
     ]
    }
   ],
   "source": [
    "# PARAMETERS\n",
    "d = 2  # dimension of the problem\n",
    "k = 50  # number of arms at each step\n",
    "steps = 6000  # number of steps for the experiment\n",
    "n_scat = 1000 # How frequently should we plot the true parameter\n",
    "t_saved = None\n",
    "\n",
    "# When saving only a part of the trajectory rather than all the points uncomment the 2 following lines\n",
    "# number_t_saved = steps//10\n",
    "# t_saved = np.int_(np.linspace(0, steps - 1, number_t_saved))\n",
    "\n",
    "alpha = 1\n",
    "sigma_noise = 1 # Square root of the variance of the noise\n",
    "verbose = False\n",
    "q = 5 # 5 percent quantiles used\n",
    "\n",
    "### Description of the experiment\n",
    "theta = np.array([1,  0]) # Starting point of the true unknown parameter\n",
    "bp = {1001: np.array([-1,  0]), 2001: np.array([0,  1]), 3001: np.array([0,  -1])} # Descrition of the breakpoints\n",
    "\n",
    "B_T = 4 + np.sqrt(2) # Computed manually\n",
    "print('B_T value:', B_T)\n",
    "print('Sigma value for the experimenxt:', sigma_noise)\n",
    "\n",
    "gamma  = 1 - (B_T/(d*steps))**(2/3) # Optimal Value to minimize the asymptotical regret\n",
    "tau = (d*steps/B_T)**(2/3) # Optimal Value to minimize the asymptotical regret\n",
    "print('gamma:', gamma)\n",
    "print('tau:', tau)\n",
    "\n",
    "policies = [DLinUCB(d, delta, alpha, lambda_, s, gamma, '', sm = False, sigma_noise = sigma_noise, verbose=verbose),\n",
    "            SWLinUCB(d, delta, alpha, lambda_, s, tau, '', sm=False, sigma_noise=sigma_noise, verbose=verbose),\n",
    "            DynamicLinUCB(d, delta, alpha, lambda_, s, tau=200, name='', filename = 'abrupt_exp_final',\n",
    "                          sm=True, sigma_noise = sigma_noise, delta_2=0.01, tilde_delta=0.002, verbose=False, \n",
    "                          omniscient=False),\n",
    "            PolicyLinUCB(d, delta, alpha, lambda_, s, '', sm = True, sigma_noise = sigma_noise, verbose=verbose),\n",
    "            PolicyLinUCB(d, delta, alpha, lambda_, s, '-OR', sm = True, sigma_noise = sigma_noise, verbose=verbose,\n",
    "                        omniscient = True)\n",
    "           ]"
   ]
  },
  {
   "cell_type": "markdown",
   "metadata": {},
   "source": [
    "# Unparallelized experiments"
   ]
  },
  {
   "cell_type": "code",
   "execution_count": 7,
   "metadata": {},
   "outputs": [
    {
     "name": "stderr",
     "output_type": "stream",
     "text": [
      "\r",
      "  0%|          | 0/2 [00:00<?, ?it/s]"
     ]
    },
    {
     "name": "stdout",
     "output_type": "stream",
     "text": [
      "0 D-LinUCB [0. 0.] [1 0]\n",
      "1000 D-LinUCB [1.0336647  0.15032362] [1 0]\n",
      "2000 D-LinUCB [-0.99439429  0.1253892 ] [-1  0]\n",
      "3000 D-LinUCB [0.18665829 0.82470159] [0 1]\n",
      "4000 D-LinUCB [ 0.14962014 -0.97342344] [ 0 -1]\n",
      "5000 D-LinUCB [-0.09219099 -0.96700548] [ 0 -1]\n",
      "0 SW-LinUCB [0. 0.] [1 0]\n",
      "1000 SW-LinUCB [ 0.94207346 -0.11918458] [1 0]\n",
      "2000 SW-LinUCB [-0.81413941  0.09369063] [-1  0]\n",
      "3000 SW-LinUCB [0.00383771 1.05865697] [0 1]\n",
      "4000 SW-LinUCB [-0.26719374 -0.96224329] [ 0 -1]\n",
      "5000 SW-LinUCB [-0.14277934 -0.95955255] [ 0 -1]\n",
      "0 dLinUCB [0. 0.] [1 0]\n",
      "1000 dLinUCB [1.04543044 0.01047125] [1 0]\n",
      "Creation of a new model at time:1143\n",
      "2000 dLinUCB [-1.03135246  0.03413425] [-1  0]\n",
      "3000 dLinUCB [-0.59847738  0.10386267] [0 1]\n",
      "4000 dLinUCB [-0.49082773 -0.07334713] [ 0 -1]\n",
      "5000 dLinUCB [-0.49697686 -0.16282064] [ 0 -1]\n",
      "0 LinUCB [0. 0.] [1 0]\n",
      "1000 LinUCB [ 0.99906161 -0.03878663] [1 0]\n",
      "2000 LinUCB [0.08682585 0.00278432] [-1  0]\n",
      "3000 LinUCB [0.15907871 0.54730433] [0 1]\n",
      "4000 LinUCB [0.06069322 0.02766634] [ 0 -1]\n",
      "5000 LinUCB [ 0.21365131 -0.11175687] [ 0 -1]\n",
      "0 LinUCB-OR [0. 0.] [1 0]\n",
      "1000 LinUCB-OR [0.91485193 0.21864987] [1 0]\n",
      "2000 LinUCB-OR [-1.01365626 -0.08995285] [-1  0]\n",
      "3000 LinUCB-OR [0.03454116 1.04176173] [0 1]\n",
      "4000 LinUCB-OR [-0.08598569 -1.00636173] [ 0 -1]\n",
      "5000 LinUCB-OR [-0.06355498 -1.01395648] [ 0 -1]\n"
     ]
    },
    {
     "name": "stderr",
     "output_type": "stream",
     "text": [
      "\r",
      " 50%|█████     | 1/2 [00:22<00:22, 22.69s/it]"
     ]
    },
    {
     "name": "stdout",
     "output_type": "stream",
     "text": [
      "Creation of a new model at time:1152\n"
     ]
    },
    {
     "name": "stderr",
     "output_type": "stream",
     "text": [
      "\r",
      "100%|██████████| 2/2 [00:45<00:00, 22.59s/it]"
     ]
    },
    {
     "name": "stdout",
     "output_type": "stream",
     "text": [
      "-- Building data out of the experiments ---\n",
      "--- Data built ---\n"
     ]
    },
    {
     "name": "stderr",
     "output_type": "stream",
     "text": [
      "\n"
     ]
    }
   ],
   "source": [
    "data, theta_hat, action_check_val, timedic = data_from_experiment(n_mc=2, option = '')"
   ]
  },
  {
   "cell_type": "code",
   "execution_count": 8,
   "metadata": {},
   "outputs": [
    {
     "name": "stdout",
     "output_type": "stream",
     "text": [
      "{'D-LinUCB': 10.487666845321655, 'SW-LinUCB': 9.115904331207275, 'dLinUCB': 8.719751834869385, 'LinUCB': 8.368414402008057, 'LinUCB-OR': 8.357692241668701}\n"
     ]
    },
    {
     "data": {
      "image/png": "[encoded data removed]",
      "text/plain": [
       "<Figure size 432x432 with 1 Axes>"
      ]
     },
     "metadata": {
      "needs_background": "light"
     },
     "output_type": "display_data"
    },
    {
     "data": {
      "image/png": "[encoded data removed]",
      "text/plain": [
       "<Figure size 504x432 with 1 Axes>"
      ]
     },
     "metadata": {
      "needs_background": "light"
     },
     "output_type": "display_data"
    },
    {
     "data": {
      "image/png": "[encoded data removed]",
      "text/plain": [
       "<Figure size 432x432 with 1 Axes>"
      ]
     },
     "metadata": {
      "needs_background": "light"
     },
     "output_type": "display_data"
    }
   ],
   "source": [
    "# Plot on a single experiment\n",
    "print(timedic) # Computation time for the different policies\n",
    "action_check(action_check_val, 0) # To see the available actions at one step\n",
    "plot_regret(data, t_saved, filename = None, log=False, qtl=True, loc=2, font=13, bp = bp, bp_2 = {})\n",
    "scatter_abrupt(theta_hat, None, theta, bp, loc=0, font=10, circle=True)"
   ]
  },
  {
   "cell_type": "code",
   "execution_count": 9,
   "metadata": {
    "collapsed": true
   },
   "outputs": [
    {
     "name": "stderr",
     "output_type": "stream",
     "text": [
      "\r",
      "  0%|          | 0/100 [00:00<?, ?it/s]"
     ]
    },
    {
     "name": "stdout",
     "output_type": "stream",
     "text": [
      "0 D-LinUCB [0. 0.] [1 0]\n",
      "1000 D-LinUCB [ 1.10028461 -0.00923249] [1 0]\n",
      "2000 D-LinUCB [-0.92883273 -0.01456212] [-1  0]\n",
      "3000 D-LinUCB [-0.05819116  0.97228247] [0 1]\n",
      "4000 D-LinUCB [-0.19413356 -0.97887389] [ 0 -1]\n",
      "5000 D-LinUCB [-0.11933417 -0.91318628] [ 0 -1]\n",
      "0 SW-LinUCB [0. 0.] [1 0]\n",
      "1000 SW-LinUCB [0.98908074 0.02045452] [1 0]\n",
      "2000 SW-LinUCB [-1.04158366 -0.07015873] [-1  0]\n",
      "3000 SW-LinUCB [-0.17663803  0.83564732] [0 1]\n",
      "4000 SW-LinUCB [-0.04960634 -1.07285185] [ 0 -1]\n",
      "5000 SW-LinUCB [ 0.02966317 -1.03225244] [ 0 -1]\n",
      "0 dLinUCB [-0.47191378 -0.21313744] [1 0]\n",
      "1000 dLinUCB [ 0.99477346 -0.03438142] [1 0]\n",
      "Creation of a new model at time:1207\n",
      "2000 dLinUCB [-0.9691038  0.0059536] [-1  0]\n",
      "3000 dLinUCB [-0.63967061  0.75574878] [0 1]\n",
      "4000 dLinUCB [-0.56415817  0.11048285] [ 0 -1]\n",
      "5000 dLinUCB [ 0.17834485 -0.20157163] [ 0 -1]\n",
      "0 LinUCB [0. 0.] [1 0]\n",
      "1000 LinUCB [ 0.97834109 -0.0019178 ] [1 0]\n",
      "2000 LinUCB [ 0.08975521 -0.00361395] [-1  0]\n",
      "3000 LinUCB [0.1822434  0.49731152] [0 1]\n",
      "4000 LinUCB [0.06539652 0.03826924] [ 0 -1]\n",
      "5000 LinUCB [ 0.22426423 -0.12227789] [ 0 -1]\n",
      "0 LinUCB-OR [0. 0.] [1 0]\n",
      "1000 LinUCB-OR [ 0.98539197 -0.06680445] [1 0]\n",
      "2000 LinUCB-OR [-0.93411743 -0.02569446] [-1  0]\n",
      "3000 LinUCB-OR [-0.00301195  1.01652797] [0 1]\n",
      "4000 LinUCB-OR [-0.09846715 -0.97435587] [ 0 -1]\n",
      "5000 LinUCB-OR [-0.0795424  -1.01546476] [ 0 -1]\n"
     ]
    },
    {
     "name": "stderr",
     "output_type": "stream",
     "text": [
      "\r",
      "  1%|          | 1/100 [00:23<38:51, 23.55s/it]"
     ]
    },
    {
     "name": "stdout",
     "output_type": "stream",
     "text": [
      "Creation of a new model at time:1130\n"
     ]
    },
    {
     "name": "stderr",
     "output_type": "stream",
     "text": [
      "  3%|▎         | 3/100 [01:11<38:33, 23.85s/it]"
     ]
    },
    {
     "name": "stdout",
     "output_type": "stream",
     "text": [
      "Creation of a new model at time:1169\n"
     ]
    },
    {
     "name": "stderr",
     "output_type": "stream",
     "text": [
      "\r",
      "  4%|▍         | 4/100 [01:35<37:56, 23.72s/it]"
     ]
    },
    {
     "name": "stdout",
     "output_type": "stream",
     "text": [
      "Creation of a new model at time:1198\n"
     ]
    },
    {
     "name": "stderr",
     "output_type": "stream",
     "text": [
      "\r",
      "  5%|▌         | 5/100 [01:59<37:59, 24.00s/it]"
     ]
    },
    {
     "name": "stdout",
     "output_type": "stream",
     "text": [
      "Creation of a new model at time:1161\n"
     ]
    },
    {
     "name": "stderr",
     "output_type": "stream",
     "text": [
      "\r",
      "  6%|▌         | 6/100 [02:23<37:30, 23.94s/it]"
     ]
    },
    {
     "name": "stdout",
     "output_type": "stream",
     "text": [
      "Creation of a new model at time:1178\n"
     ]
    },
    {
     "name": "stderr",
     "output_type": "stream",
     "text": [
      "\r",
      "  7%|▋         | 7/100 [02:47<36:54, 23.82s/it]"
     ]
    },
    {
     "name": "stdout",
     "output_type": "stream",
     "text": [
      "Creation of a new model at time:1151\n"
     ]
    },
    {
     "name": "stderr",
     "output_type": "stream",
     "text": [
      "\r",
      "  8%|▊         | 8/100 [03:11<36:35, 23.87s/it]"
     ]
    },
    {
     "name": "stdout",
     "output_type": "stream",
     "text": [
      "Creation of a new model at time:1135\n"
     ]
    },
    {
     "name": "stderr",
     "output_type": "stream",
     "text": [
      "\r",
      "  9%|▉         | 9/100 [03:36<36:55, 24.35s/it]"
     ]
    },
    {
     "name": "stdout",
     "output_type": "stream",
     "text": [
      "Creation of a new model at time:1201\n"
     ]
    },
    {
     "name": "stderr",
     "output_type": "stream",
     "text": [
      "\r",
      " 10%|█         | 10/100 [04:01<36:37, 24.42s/it]"
     ]
    },
    {
     "name": "stdout",
     "output_type": "stream",
     "text": [
      "Creation of a new model at time:1102\n"
     ]
    },
    {
     "name": "stderr",
     "output_type": "stream",
     "text": [
      "\r",
      " 11%|█         | 11/100 [04:25<36:13, 24.43s/it]"
     ]
    },
    {
     "name": "stdout",
     "output_type": "stream",
     "text": [
      "Creation of a new model at time:1117\n"
     ]
    },
    {
     "name": "stderr",
     "output_type": "stream",
     "text": [
      "\r",
      " 12%|█▏        | 12/100 [04:51<36:17, 24.74s/it]"
     ]
    },
    {
     "name": "stdout",
     "output_type": "stream",
     "text": [
      "Creation of a new model at time:1128\n"
     ]
    },
    {
     "name": "stderr",
     "output_type": "stream",
     "text": [
      " 14%|█▍        | 14/100 [05:44<36:52, 25.73s/it]"
     ]
    },
    {
     "name": "stdout",
     "output_type": "stream",
     "text": [
      "Creation of a new model at time:1160\n"
     ]
    },
    {
     "name": "stderr",
     "output_type": "stream",
     "text": [
      "\r",
      " 15%|█▌        | 15/100 [06:08<35:43, 25.21s/it]"
     ]
    },
    {
     "name": "stdout",
     "output_type": "stream",
     "text": [
      "Creation of a new model at time:1142\n"
     ]
    },
    {
     "name": "stderr",
     "output_type": "stream",
     "text": [
      "\r",
      " 16%|█▌        | 16/100 [06:31<34:31, 24.66s/it]"
     ]
    },
    {
     "name": "stdout",
     "output_type": "stream",
     "text": [
      "Creation of a new model at time:1141\n"
     ]
    },
    {
     "name": "stderr",
     "output_type": "stream",
     "text": [
      "\r",
      " 17%|█▋        | 17/100 [06:55<33:46, 24.41s/it]"
     ]
    },
    {
     "name": "stdout",
     "output_type": "stream",
     "text": [
      "Creation of a new model at time:1119\n"
     ]
    },
    {
     "name": "stderr",
     "output_type": "stream",
     "text": [
      "\r",
      " 18%|█▊        | 18/100 [07:19<33:18, 24.37s/it]"
     ]
    },
    {
     "name": "stdout",
     "output_type": "stream",
     "text": [
      "Creation of a new model at time:1131\n"
     ]
    },
    {
     "name": "stderr",
     "output_type": "stream",
     "text": [
      "\r",
      " 19%|█▉        | 19/100 [07:43<32:32, 24.11s/it]"
     ]
    },
    {
     "name": "stdout",
     "output_type": "stream",
     "text": [
      "Creation of a new model at time:1127\n"
     ]
    },
    {
     "name": "stderr",
     "output_type": "stream",
     "text": [
      "\r",
      " 20%|██        | 20/100 [08:06<31:49, 23.86s/it]"
     ]
    },
    {
     "name": "stdout",
     "output_type": "stream",
     "text": [
      "Creation of a new model at time:1120\n"
     ]
    },
    {
     "name": "stderr",
     "output_type": "stream",
     "text": [
      "\r",
      " 21%|██        | 21/100 [08:29<31:10, 23.68s/it]"
     ]
    },
    {
     "name": "stdout",
     "output_type": "stream",
     "text": [
      "Creation of a new model at time:1154\n"
     ]
    },
    {
     "name": "stderr",
     "output_type": "stream",
     "text": [
      "\r",
      " 22%|██▏       | 22/100 [08:52<30:33, 23.50s/it]"
     ]
    },
    {
     "name": "stdout",
     "output_type": "stream",
     "text": [
      "Creation of a new model at time:1141\n"
     ]
    },
    {
     "name": "stderr",
     "output_type": "stream",
     "text": [
      "\r",
      " 23%|██▎       | 23/100 [09:16<30:06, 23.46s/it]"
     ]
    },
    {
     "name": "stdout",
     "output_type": "stream",
     "text": [
      "Creation of a new model at time:1192\n"
     ]
    },
    {
     "name": "stderr",
     "output_type": "stream",
     "text": [
      "\r",
      " 24%|██▍       | 24/100 [09:39<29:45, 23.49s/it]"
     ]
    },
    {
     "name": "stdout",
     "output_type": "stream",
     "text": [
      "Creation of a new model at time:1161\n"
     ]
    },
    {
     "name": "stderr",
     "output_type": "stream",
     "text": [
      "\r",
      " 25%|██▌       | 25/100 [10:02<29:16, 23.42s/it]"
     ]
    },
    {
     "name": "stdout",
     "output_type": "stream",
     "text": [
      "Creation of a new model at time:1129\n"
     ]
    },
    {
     "name": "stderr",
     "output_type": "stream",
     "text": [
      "\r",
      " 26%|██▌       | 26/100 [10:26<28:49, 23.37s/it]"
     ]
    },
    {
     "name": "stdout",
     "output_type": "stream",
     "text": [
      "Creation of a new model at time:1180\n",
      "Creation of a new model at time:3197\n"
     ]
    },
    {
     "name": "stderr",
     "output_type": "stream",
     "text": [
      "\r",
      " 27%|██▋       | 27/100 [10:50<28:52, 23.73s/it]"
     ]
    },
    {
     "name": "stdout",
     "output_type": "stream",
     "text": [
      "Creation of a new model at time:1171\n"
     ]
    },
    {
     "name": "stderr",
     "output_type": "stream",
     "text": [
      "\r",
      " 28%|██▊       | 28/100 [11:14<28:25, 23.69s/it]"
     ]
    },
    {
     "name": "stdout",
     "output_type": "stream",
     "text": [
      "Creation of a new model at time:1114\n"
     ]
    },
    {
     "name": "stderr",
     "output_type": "stream",
     "text": [
      "\r",
      " 29%|██▉       | 29/100 [11:37<27:59, 23.66s/it]"
     ]
    },
    {
     "name": "stdout",
     "output_type": "stream",
     "text": [
      "Creation of a new model at time:1117\n"
     ]
    },
    {
     "name": "stderr",
     "output_type": "stream",
     "text": [
      "\r",
      " 30%|███       | 30/100 [12:01<27:28, 23.55s/it]"
     ]
    },
    {
     "name": "stdout",
     "output_type": "stream",
     "text": [
      "Creation of a new model at time:1136\n"
     ]
    },
    {
     "name": "stderr",
     "output_type": "stream",
     "text": [
      "\r",
      " 31%|███       | 31/100 [12:25<27:24, 23.84s/it]"
     ]
    },
    {
     "name": "stdout",
     "output_type": "stream",
     "text": [
      "Creation of a new model at time:1138\n"
     ]
    },
    {
     "name": "stderr",
     "output_type": "stream",
     "text": [
      "\r",
      " 32%|███▏      | 32/100 [12:49<27:05, 23.91s/it]"
     ]
    },
    {
     "name": "stdout",
     "output_type": "stream",
     "text": [
      "Creation of a new model at time:1103\n"
     ]
    },
    {
     "name": "stderr",
     "output_type": "stream",
     "text": [
      "\r",
      " 33%|███▎      | 33/100 [13:14<27:07, 24.30s/it]"
     ]
    },
    {
     "name": "stdout",
     "output_type": "stream",
     "text": [
      "Creation of a new model at time:1109\n"
     ]
    },
    {
     "name": "stderr",
     "output_type": "stream",
     "text": [
      "\r",
      " 34%|███▍      | 34/100 [13:38<26:20, 23.94s/it]"
     ]
    },
    {
     "name": "stdout",
     "output_type": "stream",
     "text": [
      "Creation of a new model at time:1166\n"
     ]
    },
    {
     "name": "stderr",
     "output_type": "stream",
     "text": [
      "\r",
      " 35%|███▌      | 35/100 [14:03<26:15, 24.24s/it]"
     ]
    },
    {
     "name": "stdout",
     "output_type": "stream",
     "text": [
      "Creation of a new model at time:1122\n"
     ]
    },
    {
     "name": "stderr",
     "output_type": "stream",
     "text": [
      "\r",
      " 36%|███▌      | 36/100 [14:25<25:23, 23.80s/it]"
     ]
    },
    {
     "name": "stdout",
     "output_type": "stream",
     "text": [
      "Creation of a new model at time:1209\n",
      "Creation of a new model at time:3182\n"
     ]
    },
    {
     "name": "stderr",
     "output_type": "stream",
     "text": [
      "\r",
      " 37%|███▋      | 37/100 [14:49<24:52, 23.69s/it]"
     ]
    },
    {
     "name": "stdout",
     "output_type": "stream",
     "text": [
      "Creation of a new model at time:1181\n"
     ]
    },
    {
     "name": "stderr",
     "output_type": "stream",
     "text": [
      "\r",
      " 38%|███▊      | 38/100 [15:12<24:21, 23.58s/it]"
     ]
    },
    {
     "name": "stdout",
     "output_type": "stream",
     "text": [
      "Creation of a new model at time:3459\n"
     ]
    },
    {
     "name": "stderr",
     "output_type": "stream",
     "text": [
      "\r",
      " 39%|███▉      | 39/100 [15:37<24:14, 23.84s/it]"
     ]
    },
    {
     "name": "stdout",
     "output_type": "stream",
     "text": [
      "Creation of a new model at time:1156\n"
     ]
    },
    {
     "name": "stderr",
     "output_type": "stream",
     "text": [
      "\r",
      " 40%|████      | 40/100 [16:00<23:49, 23.83s/it]"
     ]
    },
    {
     "name": "stdout",
     "output_type": "stream",
     "text": [
      "Creation of a new model at time:1211\n"
     ]
    },
    {
     "name": "stderr",
     "output_type": "stream",
     "text": [
      "\r",
      " 41%|████      | 41/100 [16:25<23:36, 24.00s/it]"
     ]
    },
    {
     "name": "stdout",
     "output_type": "stream",
     "text": [
      "Creation of a new model at time:1157\n"
     ]
    },
    {
     "name": "stderr",
     "output_type": "stream",
     "text": [
      "\r",
      " 42%|████▏     | 42/100 [16:50<23:25, 24.24s/it]"
     ]
    },
    {
     "name": "stdout",
     "output_type": "stream",
     "text": [
      "Creation of a new model at time:1197\n"
     ]
    },
    {
     "name": "stderr",
     "output_type": "stream",
     "text": [
      "\r",
      " 43%|████▎     | 43/100 [17:13<22:50, 24.05s/it]"
     ]
    },
    {
     "name": "stdout",
     "output_type": "stream",
     "text": [
      "Creation of a new model at time:1141\n"
     ]
    },
    {
     "name": "stderr",
     "output_type": "stream",
     "text": [
      "\r",
      " 44%|████▍     | 44/100 [17:36<22:07, 23.71s/it]"
     ]
    },
    {
     "name": "stdout",
     "output_type": "stream",
     "text": [
      "Creation of a new model at time:1193\n",
      "Creation of a new model at time:3174\n"
     ]
    },
    {
     "name": "stderr",
     "output_type": "stream",
     "text": [
      "\r",
      " 45%|████▌     | 45/100 [17:59<21:34, 23.53s/it]"
     ]
    },
    {
     "name": "stdout",
     "output_type": "stream",
     "text": [
      "Creation of a new model at time:1092\n"
     ]
    },
    {
     "name": "stderr",
     "output_type": "stream",
     "text": [
      "\r",
      " 46%|████▌     | 46/100 [18:23<21:20, 23.71s/it]"
     ]
    },
    {
     "name": "stdout",
     "output_type": "stream",
     "text": [
      "Creation of a new model at time:1222\n"
     ]
    },
    {
     "name": "stderr",
     "output_type": "stream",
     "text": [
      "\r",
      " 47%|████▋     | 47/100 [18:47<21:03, 23.85s/it]"
     ]
    },
    {
     "name": "stdout",
     "output_type": "stream",
     "text": [
      "Creation of a new model at time:1181\n"
     ]
    },
    {
     "name": "stderr",
     "output_type": "stream",
     "text": [
      "\r",
      " 48%|████▊     | 48/100 [19:10<20:24, 23.54s/it]"
     ]
    },
    {
     "name": "stdout",
     "output_type": "stream",
     "text": [
      "Creation of a new model at time:1196\n"
     ]
    },
    {
     "name": "stderr",
     "output_type": "stream",
     "text": [
      "\r",
      " 49%|████▉     | 49/100 [19:33<19:54, 23.42s/it]"
     ]
    },
    {
     "name": "stdout",
     "output_type": "stream",
     "text": [
      "Creation of a new model at time:1152\n"
     ]
    },
    {
     "name": "stderr",
     "output_type": "stream",
     "text": [
      "\r",
      " 50%|█████     | 50/100 [19:57<19:35, 23.52s/it]"
     ]
    },
    {
     "name": "stdout",
     "output_type": "stream",
     "text": [
      "Creation of a new model at time:1165\n"
     ]
    },
    {
     "name": "stderr",
     "output_type": "stream",
     "text": [
      "\r",
      " 51%|█████     | 51/100 [20:21<19:23, 23.75s/it]"
     ]
    },
    {
     "name": "stdout",
     "output_type": "stream",
     "text": [
      "Creation of a new model at time:1123\n"
     ]
    },
    {
     "name": "stderr",
     "output_type": "stream",
     "text": [
      "\r",
      " 52%|█████▏    | 52/100 [20:46<19:08, 23.93s/it]"
     ]
    },
    {
     "name": "stdout",
     "output_type": "stream",
     "text": [
      "Creation of a new model at time:1284\n"
     ]
    },
    {
     "name": "stderr",
     "output_type": "stream",
     "text": [
      "\r",
      " 53%|█████▎    | 53/100 [21:10<18:55, 24.15s/it]"
     ]
    },
    {
     "name": "stdout",
     "output_type": "stream",
     "text": [
      "Creation of a new model at time:1144\n"
     ]
    },
    {
     "name": "stderr",
     "output_type": "stream",
     "text": [
      "\r",
      " 54%|█████▍    | 54/100 [21:34<18:25, 24.04s/it]"
     ]
    },
    {
     "name": "stdout",
     "output_type": "stream",
     "text": [
      "Creation of a new model at time:1144\n"
     ]
    },
    {
     "name": "stderr",
     "output_type": "stream",
     "text": [
      " 56%|█████▌    | 56/100 [22:23<17:50, 24.33s/it]"
     ]
    },
    {
     "name": "stdout",
     "output_type": "stream",
     "text": [
      "Creation of a new model at time:1069\n"
     ]
    },
    {
     "name": "stderr",
     "output_type": "stream",
     "text": [
      "\r",
      " 57%|█████▋    | 57/100 [22:47<17:22, 24.24s/it]"
     ]
    },
    {
     "name": "stdout",
     "output_type": "stream",
     "text": [
      "Creation of a new model at time:1123\n"
     ]
    },
    {
     "name": "stderr",
     "output_type": "stream",
     "text": [
      "\r",
      " 58%|█████▊    | 58/100 [23:12<17:03, 24.36s/it]"
     ]
    },
    {
     "name": "stdout",
     "output_type": "stream",
     "text": [
      "Creation of a new model at time:1153\n"
     ]
    },
    {
     "name": "stderr",
     "output_type": "stream",
     "text": [
      "\r",
      " 59%|█████▉    | 59/100 [23:36<16:27, 24.10s/it]"
     ]
    },
    {
     "name": "stdout",
     "output_type": "stream",
     "text": [
      "Creation of a new model at time:1110\n"
     ]
    },
    {
     "name": "stderr",
     "output_type": "stream",
     "text": [
      "\r",
      " 60%|██████    | 60/100 [24:00<16:06, 24.16s/it]"
     ]
    },
    {
     "name": "stdout",
     "output_type": "stream",
     "text": [
      "Creation of a new model at time:1119\n"
     ]
    },
    {
     "name": "stderr",
     "output_type": "stream",
     "text": [
      "\r",
      " 61%|██████    | 61/100 [24:24<15:37, 24.03s/it]"
     ]
    },
    {
     "name": "stdout",
     "output_type": "stream",
     "text": [
      "Creation of a new model at time:1187\n"
     ]
    },
    {
     "name": "stderr",
     "output_type": "stream",
     "text": [
      "\r",
      " 62%|██████▏   | 62/100 [24:47<15:05, 23.84s/it]"
     ]
    },
    {
     "name": "stdout",
     "output_type": "stream",
     "text": [
      "Creation of a new model at time:1184\n"
     ]
    },
    {
     "name": "stderr",
     "output_type": "stream",
     "text": [
      "\r",
      " 63%|██████▎   | 63/100 [25:10<14:35, 23.67s/it]"
     ]
    },
    {
     "name": "stdout",
     "output_type": "stream",
     "text": [
      "Creation of a new model at time:1113\n"
     ]
    },
    {
     "name": "stderr",
     "output_type": "stream",
     "text": [
      "\r",
      " 64%|██████▍   | 64/100 [25:34<14:08, 23.58s/it]"
     ]
    },
    {
     "name": "stdout",
     "output_type": "stream",
     "text": [
      "Creation of a new model at time:1189\n"
     ]
    },
    {
     "name": "stderr",
     "output_type": "stream",
     "text": [
      "\r",
      " 65%|██████▌   | 65/100 [25:58<13:50, 23.73s/it]"
     ]
    },
    {
     "name": "stdout",
     "output_type": "stream",
     "text": [
      "Creation of a new model at time:1174\n"
     ]
    },
    {
     "name": "stderr",
     "output_type": "stream",
     "text": [
      "\r",
      " 66%|██████▌   | 66/100 [26:23<13:41, 24.16s/it]"
     ]
    },
    {
     "name": "stdout",
     "output_type": "stream",
     "text": [
      "Creation of a new model at time:1163\n"
     ]
    },
    {
     "name": "stderr",
     "output_type": "stream",
     "text": [
      "\r",
      " 67%|██████▋   | 67/100 [26:47<13:20, 24.25s/it]"
     ]
    },
    {
     "name": "stdout",
     "output_type": "stream",
     "text": [
      "Creation of a new model at time:1199\n"
     ]
    },
    {
     "name": "stderr",
     "output_type": "stream",
     "text": [
      "\r",
      " 68%|██████▊   | 68/100 [27:10<12:45, 23.93s/it]"
     ]
    },
    {
     "name": "stdout",
     "output_type": "stream",
     "text": [
      "Creation of a new model at time:1128\n"
     ]
    },
    {
     "name": "stderr",
     "output_type": "stream",
     "text": [
      "\r",
      " 69%|██████▉   | 69/100 [27:33<12:13, 23.66s/it]"
     ]
    },
    {
     "name": "stdout",
     "output_type": "stream",
     "text": [
      "Creation of a new model at time:1166\n"
     ]
    },
    {
     "name": "stderr",
     "output_type": "stream",
     "text": [
      "\r",
      " 70%|███████   | 70/100 [27:59<12:04, 24.16s/it]"
     ]
    },
    {
     "name": "stdout",
     "output_type": "stream",
     "text": [
      "Creation of a new model at time:1104\n"
     ]
    },
    {
     "name": "stderr",
     "output_type": "stream",
     "text": [
      "\r",
      " 71%|███████   | 71/100 [28:23<11:44, 24.28s/it]"
     ]
    },
    {
     "name": "stdout",
     "output_type": "stream",
     "text": [
      "Creation of a new model at time:1284\n"
     ]
    },
    {
     "name": "stderr",
     "output_type": "stream",
     "text": [
      "\r",
      " 72%|███████▏  | 72/100 [28:47<11:16, 24.17s/it]"
     ]
    },
    {
     "name": "stdout",
     "output_type": "stream",
     "text": [
      "Creation of a new model at time:1201\n"
     ]
    },
    {
     "name": "stderr",
     "output_type": "stream",
     "text": [
      "\r",
      " 73%|███████▎  | 73/100 [29:13<11:04, 24.62s/it]"
     ]
    },
    {
     "name": "stdout",
     "output_type": "stream",
     "text": [
      "Creation of a new model at time:1165\n"
     ]
    },
    {
     "name": "stderr",
     "output_type": "stream",
     "text": [
      "\r",
      " 74%|███████▍  | 74/100 [29:37<10:37, 24.50s/it]"
     ]
    },
    {
     "name": "stdout",
     "output_type": "stream",
     "text": [
      "Creation of a new model at time:1181\n"
     ]
    },
    {
     "name": "stderr",
     "output_type": "stream",
     "text": [
      "\r",
      " 75%|███████▌  | 75/100 [30:02<10:14, 24.58s/it]"
     ]
    },
    {
     "name": "stdout",
     "output_type": "stream",
     "text": [
      "Creation of a new model at time:1124\n"
     ]
    },
    {
     "name": "stderr",
     "output_type": "stream",
     "text": [
      "\r",
      " 76%|███████▌  | 76/100 [30:27<09:51, 24.66s/it]"
     ]
    },
    {
     "name": "stdout",
     "output_type": "stream",
     "text": [
      "Creation of a new model at time:1118\n"
     ]
    },
    {
     "name": "stderr",
     "output_type": "stream",
     "text": [
      "\r",
      " 77%|███████▋  | 77/100 [30:51<09:26, 24.63s/it]"
     ]
    },
    {
     "name": "stdout",
     "output_type": "stream",
     "text": [
      "Creation of a new model at time:1117\n"
     ]
    },
    {
     "name": "stderr",
     "output_type": "stream",
     "text": [
      "\r",
      " 78%|███████▊  | 78/100 [31:16<09:04, 24.74s/it]"
     ]
    },
    {
     "name": "stdout",
     "output_type": "stream",
     "text": [
      "Creation of a new model at time:1099\n"
     ]
    },
    {
     "name": "stderr",
     "output_type": "stream",
     "text": [
      "\r",
      " 79%|███████▉  | 79/100 [31:41<08:39, 24.76s/it]"
     ]
    },
    {
     "name": "stdout",
     "output_type": "stream",
     "text": [
      "Creation of a new model at time:1183\n"
     ]
    },
    {
     "name": "stderr",
     "output_type": "stream",
     "text": [
      " 81%|████████  | 81/100 [32:30<07:50, 24.74s/it]"
     ]
    },
    {
     "name": "stdout",
     "output_type": "stream",
     "text": [
      "Creation of a new model at time:1267\n"
     ]
    },
    {
     "name": "stderr",
     "output_type": "stream",
     "text": [
      "\r",
      " 82%|████████▏ | 82/100 [32:54<07:19, 24.44s/it]"
     ]
    },
    {
     "name": "stdout",
     "output_type": "stream",
     "text": [
      "Creation of a new model at time:1123\n"
     ]
    },
    {
     "name": "stderr",
     "output_type": "stream",
     "text": [
      "\r",
      " 83%|████████▎ | 83/100 [33:18<06:54, 24.38s/it]"
     ]
    },
    {
     "name": "stdout",
     "output_type": "stream",
     "text": [
      "Creation of a new model at time:1153\n"
     ]
    },
    {
     "name": "stderr",
     "output_type": "stream",
     "text": [
      "\r",
      " 84%|████████▍ | 84/100 [33:44<06:36, 24.75s/it]"
     ]
    },
    {
     "name": "stdout",
     "output_type": "stream",
     "text": [
      "Creation of a new model at time:1149\n"
     ]
    },
    {
     "name": "stderr",
     "output_type": "stream",
     "text": [
      "\r",
      " 85%|████████▌ | 85/100 [34:08<06:08, 24.57s/it]"
     ]
    },
    {
     "name": "stdout",
     "output_type": "stream",
     "text": [
      "Creation of a new model at time:1116\n"
     ]
    },
    {
     "name": "stderr",
     "output_type": "stream",
     "text": [
      "\r",
      " 86%|████████▌ | 86/100 [34:33<05:44, 24.58s/it]"
     ]
    },
    {
     "name": "stdout",
     "output_type": "stream",
     "text": [
      "Creation of a new model at time:1183\n"
     ]
    },
    {
     "name": "stderr",
     "output_type": "stream",
     "text": [
      " 88%|████████▊ | 88/100 [35:21<04:53, 24.45s/it]"
     ]
    },
    {
     "name": "stdout",
     "output_type": "stream",
     "text": [
      "Creation of a new model at time:1150\n"
     ]
    },
    {
     "name": "stderr",
     "output_type": "stream",
     "text": [
      "\r",
      " 89%|████████▉ | 89/100 [35:45<04:27, 24.34s/it]"
     ]
    },
    {
     "name": "stdout",
     "output_type": "stream",
     "text": [
      "Creation of a new model at time:1071\n"
     ]
    },
    {
     "name": "stderr",
     "output_type": "stream",
     "text": [
      "\r",
      " 90%|█████████ | 90/100 [36:09<04:02, 24.21s/it]"
     ]
    },
    {
     "name": "stdout",
     "output_type": "stream",
     "text": [
      "Creation of a new model at time:1137\n"
     ]
    },
    {
     "name": "stderr",
     "output_type": "stream",
     "text": [
      "\r",
      " 91%|█████████ | 91/100 [36:33<03:36, 24.01s/it]"
     ]
    },
    {
     "name": "stdout",
     "output_type": "stream",
     "text": [
      "Creation of a new model at time:1227\n"
     ]
    },
    {
     "name": "stderr",
     "output_type": "stream",
     "text": [
      " 93%|█████████▎| 93/100 [37:22<02:50, 24.30s/it]"
     ]
    },
    {
     "name": "stdout",
     "output_type": "stream",
     "text": [
      "Creation of a new model at time:1176\n"
     ]
    },
    {
     "name": "stderr",
     "output_type": "stream",
     "text": [
      "\r",
      " 94%|█████████▍| 94/100 [37:46<02:25, 24.22s/it]"
     ]
    },
    {
     "name": "stdout",
     "output_type": "stream",
     "text": [
      "Creation of a new model at time:1139\n"
     ]
    },
    {
     "name": "stderr",
     "output_type": "stream",
     "text": [
      "\r",
      " 95%|█████████▌| 95/100 [38:11<02:01, 24.40s/it]"
     ]
    },
    {
     "name": "stdout",
     "output_type": "stream",
     "text": [
      "Creation of a new model at time:1160\n"
     ]
    },
    {
     "name": "stderr",
     "output_type": "stream",
     "text": [
      "\r",
      " 96%|█████████▌| 96/100 [38:35<01:37, 24.34s/it]"
     ]
    },
    {
     "name": "stdout",
     "output_type": "stream",
     "text": [
      "Creation of a new model at time:1158\n"
     ]
    },
    {
     "name": "stderr",
     "output_type": "stream",
     "text": [
      "\r",
      " 97%|█████████▋| 97/100 [38:59<01:12, 24.24s/it]"
     ]
    },
    {
     "name": "stdout",
     "output_type": "stream",
     "text": [
      "Creation of a new model at time:1121\n"
     ]
    },
    {
     "name": "stderr",
     "output_type": "stream",
     "text": [
      "\r",
      " 98%|█████████▊| 98/100 [39:23<00:48, 24.16s/it]"
     ]
    },
    {
     "name": "stdout",
     "output_type": "stream",
     "text": [
      "Creation of a new model at time:1112\n"
     ]
    },
    {
     "name": "stderr",
     "output_type": "stream",
     "text": [
      "\r",
      " 99%|█████████▉| 99/100 [39:47<00:24, 24.05s/it]"
     ]
    },
    {
     "name": "stdout",
     "output_type": "stream",
     "text": [
      "Creation of a new model at time:1124\n"
     ]
    },
    {
     "name": "stderr",
     "output_type": "stream",
     "text": [
      "\r",
      "100%|██████████| 100/100 [40:11<00:00, 23.90s/it]"
     ]
    },
    {
     "name": "stdout",
     "output_type": "stream",
     "text": [
      "-- Building data out of the experiments ---\n",
      "--- Data built ---\n"
     ]
    },
    {
     "name": "stderr",
     "output_type": "stream",
     "text": [
      "\n"
     ]
    }
   ],
   "source": [
    "# 100 indepent experiments without parallelization, should take around half an hour.\n",
    "data_100, theta_hat_100, action_check_val_100, timedic_100 = data_from_experiment(n_mc=100, option = '')"
   ]
  },
  {
   "cell_type": "code",
   "execution_count": 10,
   "metadata": {},
   "outputs": [
    {
     "name": "stdout",
     "output_type": "stream",
     "text": [
      "{'D-LinUCB': 564.9769353866577, 'SW-LinUCB': 488.5641691684723, 'dLinUCB': 465.18879771232605, 'LinUCB': 445.79935932159424, 'LinUCB-OR': 446.4877917766571}\n"
     ]
    },
    {
     "data": {
      "image/png": "[encoded data removed]",
      "text/plain": [
       "<Figure size 504x432 with 1 Axes>"
      ]
     },
     "metadata": {
      "needs_background": "light"
     },
     "output_type": "display_data"
    },
    {
     "data": {
      "image/png": "[encoded data removed]",
      "text/plain": [
       "<Figure size 432x432 with 1 Axes>"
      ]
     },
     "metadata": {
      "needs_background": "light"
     },
     "output_type": "display_data"
    }
   ],
   "source": [
    "# Plot average on 100 independent experiments\n",
    "print(timedic_100) # Computation time for the different policies\n",
    "plot_regret(data_100, t_saved, filename = None, log=False, qtl=True, loc=2, font=13, bp = bp, bp_2 = {1157:''})\n",
    "scatter_abrupt(theta_hat_100, None, theta, bp, loc=0, font=10, circle=True)"
   ]
  },
  {
   "cell_type": "code",
   "execution_count": 38,
   "metadata": {},
   "outputs": [],
   "source": [
    "# For simplifying the plot and removing unwanted policies\n",
    "theta_hat_100_partial = {}\n",
    "theta_hat_100_partial['D-LinUCB'] = theta_hat_100['D-LinUCB']\n",
    "theta_hat_100_partial['SW-LinUCB'] = theta_hat_100['SW-LinUCB']\n",
    "theta_hat_100_partial['dLinUCB'] = theta_hat_100['dLinUCB']\n",
    "theta_hat_100_partial['LinUCB'] = theta_hat_100['LinUCB']"
   ]
  },
  {
   "cell_type": "code",
   "execution_count": 43,
   "metadata": {},
   "outputs": [
    {
     "data": {
      "image/png": "[encoded data removed]",
      "text/plain": [
       "<matplotlib.figure.Figure at 0x7fbe085a7d30>"
      ]
     },
     "metadata": {
      "needs_background": "light"
     },
     "output_type": "display_data"
    }
   ],
   "source": [
    "plot_regret(data_100, t_saved, filename = None, log=False, qtl=True, loc=2, font=13, bp = bp, bp_2 = {1157:''})"
   ]
  },
  {
   "cell_type": "code",
   "execution_count": 46,
   "metadata": {},
   "outputs": [
    {
     "data": {
      "image/png": "[encoded data removed]",
      "text/plain": [
       "<matplotlib.figure.Figure at 0x7fbe087aec18>"
      ]
     },
     "metadata": {
      "needs_background": "light"
     },
     "output_type": "display_data"
    }
   ],
   "source": [
    "# when removing the LinUCB-OR policy\n",
    "scatter_abrupt(theta_hat_100_partial, None, theta, bp, loc=0, font=13, circle=True)"
   ]
  },
  {
   "cell_type": "markdown",
   "metadata": {},
   "source": [
    "# Parallelized experiments"
   ]
  },
  {
   "cell_type": "code",
   "execution_count": 12,
   "metadata": {
    "collapsed": true
   },
   "outputs": [
    {
     "name": "stdout",
     "output_type": "stream",
     "text": [
      "Creation of a new model at time:1104\n",
      "Creation of a new model at time:1152\n",
      "Creation of a new model at time:1125\n",
      "Creation of a new model at time:1191\n",
      "Creation of a new model at time:1136\n",
      "Creation of a new model at time:1095\n",
      "Creation of a new model at time:1123\n",
      "Creation of a new model at time:1091\n",
      "Creation of a new model at time:1122\n",
      "Creation of a new model at time:1136\n",
      "Creation of a new model at time:1150\n",
      "Creation of a new model at time:1179\n",
      "Creation of a new model at time:1064\n",
      "Creation of a new model at time:1135\n",
      "Creation of a new model at time:1179\n",
      "Creation of a new model at time:1114\n",
      "Creation of a new model at time:1167\n",
      "Creation of a new model at time:1174\n",
      "Creation of a new model at time:1094\n",
      "Creation of a new model at time:1139\n",
      "Creation of a new model at time:1185\n",
      "Creation of a new model at time:1198\n",
      "Creation of a new model at time:3205\n",
      "Creation of a new model at time:1145\n",
      "Creation of a new model at time:1105\n",
      "Creation of a new model at time:1090\n",
      "Creation of a new model at time:1139\n",
      "Creation of a new model at time:1068\n",
      "Creation of a new model at time:1139\n",
      "Creation of a new model at time:1116\n",
      "Creation of a new model at time:1104\n",
      "Creation of a new model at time:1181\n",
      "Creation of a new model at time:1171\n",
      "Creation of a new model at time:1186\n",
      "Creation of a new model at time:3257\n",
      "Creation of a new model at time:1170\n",
      "Creation of a new model at time:1311\n",
      "Creation of a new model at time:1168\n",
      "Creation of a new model at time:1108\n",
      "Creation of a new model at time:1197\n",
      "Creation of a new model at time:1123\n",
      "Creation of a new model at time:1125\n",
      "Creation of a new model at time:1153\n",
      "Creation of a new model at time:1217\n",
      "Creation of a new model at time:1113\n",
      "Creation of a new model at time:1162\n",
      "Creation of a new model at time:1143\n",
      "Creation of a new model at time:1105\n",
      "Creation of a new model at time:1138\n",
      "Creation of a new model at time:1135\n",
      "Creation of a new model at time:1159\n",
      "Creation of a new model at time:1098\n",
      "Creation of a new model at time:1162\n",
      "Creation of a new model at time:1152\n",
      "Creation of a new model at time:1136\n",
      "Creation of a new model at time:1156\n",
      "Creation of a new model at time:1172\n",
      "Creation of a new model at time:1119\n",
      "Creation of a new model at time:1160\n",
      "Creation of a new model at time:1189\n",
      "Creation of a new model at time:1174\n",
      "Creation of a new model at time:1149\n",
      "Creation of a new model at time:1179\n",
      "Creation of a new model at time:1169\n",
      "Creation of a new model at time:1164\n",
      "Creation of a new model at time:1161\n",
      "Creation of a new model at time:1129\n",
      "Creation of a new model at time:1135\n",
      "Creation of a new model at time:1143\n",
      "Creation of a new model at time:1172\n",
      "Creation of a new model at time:1136\n",
      "Creation of a new model at time:1431\n",
      "Creation of a new model at time:3213\n",
      "Creation of a new model at time:1095\n",
      "Creation of a new model at time:1180\n",
      "Creation of a new model at time:1083\n",
      "Creation of a new model at time:1122\n",
      "Creation of a new model at time:1132\n",
      "Creation of a new model at time:3277\n",
      "Creation of a new model at time:1137\n",
      "Creation of a new model at time:1148\n",
      "Creation of a new model at time:1187\n",
      "Creation of a new model at time:1092\n",
      "Creation of a new model at time:1196\n",
      "Creation of a new model at time:1103\n",
      "Creation of a new model at time:1217\n",
      "Creation of a new model at time:1164\n",
      "Creation of a new model at time:3163\n",
      "Creation of a new model at time:1166\n",
      "Creation of a new model at time:1119\n",
      "Creation of a new model at time:1215\n",
      "Creation of a new model at time:1166\n",
      "Creation of a new model at time:3130\n",
      "Creation of a new model at time:1185\n",
      "Creation of a new model at time:1190\n",
      "Creation of a new model at time:1211\n",
      "Creation of a new model at time:1121\n",
      "Creation of a new model at time:1224\n",
      "Creation of a new model at time:1117\n",
      "Creation of a new model at time:1153\n",
      "Creation of a new model at time:1106\n",
      "Total Time Experiment:  299.2663106918335\n",
      "Conversion time: 1.1676139831542969\n",
      "Post-Processing Time: 0.027048110961914062\n"
     ]
    }
   ],
   "source": [
    "n_process = 11\n",
    "\n",
    "file = 'abrupt_par_exp_final'\n",
    "policies = [DLinUCB(d, delta, alpha, lambda_, s, gamma, '', sm = False, sigma_noise = sigma_noise, verbose=verbose),\n",
    "            SWLinUCB(d, delta, alpha, lambda_, s, tau, '', sm=False, sigma_noise=sigma_noise, verbose=verbose),\n",
    "            DynamicLinUCB(d, delta, alpha, lambda_, s, tau=200, name='', filename = file,\n",
    "                          sm=True, sigma_noise = sigma_noise, delta_2=0.01, tilde_delta=0.002, verbose=False, \n",
    "                          omniscient=False),\n",
    "            PolicyLinUCB(d, delta, alpha, lambda_, s, '', sm = True, sigma_noise = sigma_noise, verbose=verbose),\n",
    "            PolicyLinUCB(d, delta, alpha, lambda_, s, '-OR', sm = True, sigma_noise = sigma_noise, verbose=verbose,\n",
    "                        omniscient = True)\n",
    "           ]\n",
    "\n",
    "n_expe = 100\n",
    "data_par = data_from_experiment(n_expe,'par')"
   ]
  },
  {
   "cell_type": "code",
   "execution_count": 14,
   "metadata": {},
   "outputs": [
    {
     "name": "stdout",
     "output_type": "stream",
     "text": [
      "95\n",
      "0\n",
      "6\n"
     ]
    }
   ],
   "source": [
    "with open(\"detection_out/\" + file, 'r') as f:\n",
    "    detect = list(map(lambda x:x.strip(),f.readlines()))\n",
    "\n",
    "detect = [int(el) for el in detect]\n",
    "list_1 = [el for el in detect if el < 2000]\n",
    "list_2 = [el for el in detect if el < 3000 and el >= 2000]\n",
    "list_3 = [el for el in detect if  el >= 3000]\n",
    "\n",
    "# Number of detections\n",
    "print(len(list_1))\n",
    "print(len(list_2))\n",
    "print(len(list_3))\n"
   ]
  },
  {
   "cell_type": "code",
   "execution_count": 19,
   "metadata": {},
   "outputs": [
    {
     "name": "stdout",
     "output_type": "stream",
     "text": [
      "Percentage of detection first breakpoint: 95.0\n",
      "Percentage of detection second breakpoint: 0.0\n",
      "Percentage of detection third breakpoint: 6.0\n"
     ]
    }
   ],
   "source": [
    "print('Percentage of detection first breakpoint:', len(list_1)/n_expe*100)\n",
    "print('Percentage of detection second breakpoint:',len(list_2)/n_expe*100)\n",
    "print('Percentage of detection third breakpoint:',len(list_3)/n_expe*100)"
   ]
  },
  {
   "cell_type": "code",
   "execution_count": 21,
   "metadata": {},
   "outputs": [
    {
     "name": "stdout",
     "output_type": "stream",
     "text": [
      "1150.93684211\n",
      "3207.5\n"
     ]
    }
   ],
   "source": [
    "print(np.mean(list_1)) # Average detection step of the first breakpoint\n",
    "print(np.mean(list_3)) # Average detection step of the third breakpoint"
   ]
  }
 ],
 "metadata": {
  "kernelspec": {
   "display_name": "Python 3",
   "language": "python",
   "name": "python3"
  },
  "language_info": {
   "codemirror_mode": {
    "name": "ipython",
    "version": 3
   },
   "file_extension": ".py",
   "mimetype": "text/x-python",
   "name": "python",
   "nbconvert_exporter": "python",
   "pygments_lexer": "ipython3",
   "version": "3.7.2"
  }
 },
 "nbformat": 4,
 "nbformat_minor": 2
}
